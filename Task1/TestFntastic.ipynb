{
 "cells": [
  {
   "cell_type": "code",
   "execution_count": 33,
   "id": "8f37f3b7-f807-4b83-8f7c-5223d43faf89",
   "metadata": {},
   "outputs": [],
   "source": [
    "def convert(string):\n",
    "    string = string.lower()\n",
    "    repeats = dict()\n",
    "    for i in string:\n",
    "        if i in repeats.keys():\n",
    "            repeats[i] += 1\n",
    "        else:\n",
    "            repeats[i] = 1\n",
    "            \n",
    "    result = \"\"\n",
    "    for i in string:\n",
    "        if repeats[i] > 1:\n",
    "            result += \")\"\n",
    "        else:\n",
    "            result += \"(\"\n",
    "    return result"
   ]
  },
  {
   "cell_type": "code",
   "execution_count": 34,
   "id": "f69a019f-3f0b-40ab-8ff8-4dfd3ee4f4a5",
   "metadata": {
    "tags": []
   },
   "outputs": [],
   "source": [
    "test = {\n",
    "    \"din\":\"(((\",\n",
    "    \"recede\":\"()()()\",\n",
    "    \"Success\":\")())())\",\n",
    "    \"(( @\":\"))((\"\n",
    "}"
   ]
  },
  {
   "cell_type": "code",
   "execution_count": 35,
   "id": "4c0fbde8-9cd3-45cd-a0b9-29a7c2b05640",
   "metadata": {},
   "outputs": [
    {
     "name": "stdout",
     "output_type": "stream",
     "text": [
      "Test passed \"din\" => \"(((\"\n",
      "Test passed \"recede\" => \"()()()\"\n",
      "Test passed \"Success\" => \")())())\"\n",
      "Test passed \"(( @\" => \"))((\"\n"
     ]
    }
   ],
   "source": [
    "for key, value in test.items():\n",
    "    if convert(key) == value:\n",
    "        print(f'Test passed \"{key}\" => \"{value}\"')\n",
    "    else:\n",
    "        print(\"----------------------------------\")\n",
    "        print(f'Error    \"{key}\" => \"{convert(key)}\"')\n",
    "        print(f'Expected \"{key}\" => \"{value}\"')\n",
    "        print(\"----------------------------------\")"
   ]
  }
 ],
 "metadata": {
  "kernelspec": {
   "display_name": "Python 3 (ipykernel)",
   "language": "python",
   "name": "python3"
  },
  "language_info": {
   "codemirror_mode": {
    "name": "ipython",
    "version": 3
   },
   "file_extension": ".py",
   "mimetype": "text/x-python",
   "name": "python",
   "nbconvert_exporter": "python",
   "pygments_lexer": "ipython3",
   "version": "3.9.13"
  }
 },
 "nbformat": 4,
 "nbformat_minor": 5
}
